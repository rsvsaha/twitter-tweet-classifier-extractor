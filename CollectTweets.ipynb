{
  "nbformat": 4,
  "nbformat_minor": 0,
  "metadata": {
    "colab": {
      "name": "CollectTweets.ipynb",
      "provenance": []
    },
    "kernelspec": {
      "name": "python3",
      "display_name": "Python 3"
    }
  },
  "cells": [
    {
      "cell_type": "code",
      "metadata": {
        "id": "q3mVV68QCMwt",
        "colab_type": "code",
        "colab": {}
      },
      "source": [
        "import tweepy  \n",
        "import time\n",
        "import json\n",
        "access_token = \"YOUR ACCESS TOKEN\"  \n",
        "access_token_secret = \"YOUR TOKEN SECRET\"  \n",
        "consumer_key = \"YOUR CONSUMER KEY\"  \n",
        "consumer_secret = \"YOUR CONSUMER SECRET\"  \n",
        " \n",
        "auth = tweepy.OAuthHandler(consumer_key, consumer_secret)  \n",
        "auth.set_access_token(access_token, access_token_secret)  \n",
        "api = tweepy.API(auth)"
      ],
      "execution_count": 0,
      "outputs": []
    },
    {
      "cell_type": "code",
      "metadata": {
        "id": "njHvlxdvCR5I",
        "colab_type": "code",
        "outputId": "d8f67dfa-73b8-453d-a416-881af91f4d9d",
        "colab": {
          "base_uri": "https://localhost:8080/",
          "height": 34
        }
      },
      "source": [
        "user = api.get_user(screen_name = 'ANI')  \n",
        "print(user.id)"
      ],
      "execution_count": 0,
      "outputs": [
        {
          "output_type": "stream",
          "text": [
            "355989081\n"
          ],
          "name": "stdout"
        }
      ]
    },
    {
      "cell_type": "code",
      "metadata": {
        "id": "-UtTH84fCUoq",
        "colab_type": "code",
        "outputId": "cefebb6b-02a5-4dff-b0b8-80b18ce6bbfa",
        "colab": {
          "base_uri": "https://localhost:8080/",
          "height": 34
        }
      },
      "source": [
        "user = api.get_user(355989081)  \n",
        "print(user.screen_name)"
      ],
      "execution_count": 0,
      "outputs": [
        {
          "output_type": "stream",
          "text": [
            "ANI\n"
          ],
          "name": "stdout"
        }
      ]
    },
    {
      "cell_type": "code",
      "metadata": {
        "id": "L6S0v7RZCWhU",
        "colab_type": "code",
        "colab": {}
      },
      "source": [
        "tweetArray=[]"
      ],
      "execution_count": 0,
      "outputs": []
    },
    {
      "cell_type": "code",
      "metadata": {
        "id": "oIoXuQBgCYMs",
        "colab_type": "code",
        "colab": {}
      },
      "source": [
        "def processTweets(tweets):\n",
        "      for tweet in tweets:\n",
        "        id = tweet.id\n",
        "        time = tweet.created_at\n",
        "        full_text = tweet.full_text\n",
        "        url = full_text.split(' ')[-1]\n",
        "        entities = tweet.entities\n",
        "        tweetArray.append([id,time,full_text,url,entities])\n"
      ],
      "execution_count": 0,
      "outputs": []
    },
    {
      "cell_type": "code",
      "metadata": {
        "id": "T_w6zAOYCbLO",
        "colab_type": "code",
        "colab": {}
      },
      "source": [
        "try:\n",
        "    for tweets in tweepy.Cursor(api.user_timeline, screen_name='ANI',tweet_mode='extended',exclude_replies=True, count = 200).pages(2):\n",
        "      processTweets(tweets)\n",
        "except tweepy.TweepError:  \n",
        "    time.sleep(60)"
      ],
      "execution_count": 0,
      "outputs": []
    },
    {
      "cell_type": "code",
      "metadata": {
        "id": "CPya74NiCdSN",
        "colab_type": "code",
        "colab": {}
      },
      "source": [
        "import pandas as pd\n",
        "df = pd.DataFrame(tweetArray,columns=[\"tweet_id\",\"tweet_time\",\"tweet_text\",'tweet_url','tweet_entities'])"
      ],
      "execution_count": 0,
      "outputs": []
    },
    {
      "cell_type": "code",
      "metadata": {
        "id": "-5gD1devCffb",
        "colab_type": "code",
        "colab": {}
      },
      "source": [
        "hashtags=[]\n",
        "label_array = [] \n",
        "for idx,row in df.iterrows():\n",
        "  hashtagList=[]\n",
        "  for hashtag in row['tweet_entities']['hashtags']:\n",
        "    hashtagList.append(hashtag['text'])\n",
        "  if('COVID19' in hashtagList):\n",
        "    label_array.append(True)\n",
        "  else:\n",
        "    label_array.append(False)\n",
        "  hashtags.append(hashtagList)"
      ],
      "execution_count": 0,
      "outputs": []
    },
    {
      "cell_type": "code",
      "metadata": {
        "id": "n6bMvlsQChYz",
        "colab_type": "code",
        "colab": {}
      },
      "source": [
        "df['tweet_hashtags']=hashtags\n",
        "df['tweet_labels']=label_array"
      ],
      "execution_count": 0,
      "outputs": []
    },
    {
      "cell_type": "code",
      "metadata": {
        "id": "Kr6K7C8TCjgp",
        "colab_type": "code",
        "colab": {}
      },
      "source": [
        "df.to_csv('test_file.csv')"
      ],
      "execution_count": 0,
      "outputs": []
    },
    {
      "cell_type": "code",
      "metadata": {
        "id": "eFa_CBYACl4i",
        "colab_type": "code",
        "colab": {}
      },
      "source": [
        "from google.colab import files\n",
        "files.download('test_file.csv')"
      ],
      "execution_count": 0,
      "outputs": []
    },
    {
      "cell_type": "code",
      "metadata": {
        "id": "ria3IYtRDxV2",
        "colab_type": "code",
        "colab": {}
      },
      "source": [
        ""
      ],
      "execution_count": 0,
      "outputs": []
    }
  ]
}