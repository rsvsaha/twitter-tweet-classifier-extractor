{
 "cells": [
  {
   "cell_type": "code",
   "execution_count": null,
   "metadata": {
    "colab": {
     "base_uri": "https://localhost:8080/",
     "height": 58,
     "resources": {
      "http://localhost:8080/nbextensions/google.colab/files.js": {
       "data": "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",
       "headers": [
        [
         "content-type",
         "application/javascript"
        ]
       ],
       "ok": true,
       "status": 200,
       "status_text": ""
      }
     }
    },
    "colab_type": "code",
    "id": "KrCPoeWXu19j",
    "outputId": "1c63fd70-feed-458b-accd-51fef020503a"
   },
   "outputs": [],
   "source": [
    "from google.colab import files\n",
    "files.upload()"
   ]
  },
  {
   "cell_type": "code",
   "execution_count": null,
   "metadata": {
    "colab": {
     "base_uri": "https://localhost:8080/",
     "height": 423
    },
    "colab_type": "code",
    "id": "Y7tPyoWbu9QK",
    "outputId": "cb48a38d-31f1-4d73-faa3-4efc32e1c8de"
   },
   "outputs": [],
   "source": [
    "!python -m spacy download en_core_web_sm"
   ]
  },
  {
   "cell_type": "code",
   "execution_count": null,
   "metadata": {
    "colab": {},
    "colab_type": "code",
    "collapsed": true,
    "id": "Jvnz_zHon0zh"
   },
   "outputs": [],
   "source": [
    "import pandas as pd\n",
    "df = pd.read_csv('Zones of India2.csv')\n",
    "statename = list(set( df['State'].values.tolist()))\n",
    "districts = list(set( df['District'].values.tolist()))\n",
    "placenames = districts + statename\n",
    "placenames = list(map(lambda x: x.lower(),placenames))\n"
   ]
  },
  {
   "cell_type": "code",
   "execution_count": null,
   "metadata": {
    "colab": {
     "base_uri": "https://localhost:8080/",
     "height": 118
    },
    "colab_type": "code",
    "id": "ssB78qFIvwiW",
    "outputId": "3cd40fc7-42e0-46f9-ac4e-78c108958ac5"
   },
   "outputs": [],
   "source": [
    "import nltk\n",
    "nltk.download('punkt')\n",
    "nltk.download('averaged_perceptron_tagger')"
   ]
  },
  {
   "cell_type": "code",
   "execution_count": null,
   "metadata": {
    "colab": {},
    "colab_type": "code",
    "collapsed": true,
    "id": "RyRoXZcrul-L"
   },
   "outputs": [],
   "source": [
    "from joblib import load\n",
    "tweets = []\n",
    "\n",
    "f = open('PredictedTweets.txt','r')\n",
    "\n",
    "for line in f.readlines():\n",
    "    tweets.append(line)\n",
    "\n",
    "commonWords = load('commonwords.pkl')"
   ]
  },
  {
   "cell_type": "code",
   "execution_count": null,
   "metadata": {
    "colab": {},
    "colab_type": "code",
    "collapsed": true,
    "id": "ha1HLU9Gul-S"
   },
   "outputs": [],
   "source": [
    "import re\n",
    "def removePunctuations(sentence):\n",
    "  punctList = '''!()-[]{};:'\"\\,./?@#$%^&@*_~'''\n",
    "  withoutPunctuation=\"\"\n",
    "  for character in sentence:\n",
    "    if(character not in punctList):\n",
    "      withoutPunctuation+=character\n",
    "  return withoutPunctuation\n",
    "\n",
    "def cleanSentence(sentence):\n",
    "  s = sentence.lower()\n",
    "  s = [re.sub(r'http\\S+','',s)]\n",
    "  s = [re.sub(r'[^A-Za-z0-9 ]','', s[0])]\n",
    "  s = [re.sub(' +', ' ', s[0])]\n",
    "  s = removePunctuations(s[0])\n",
    "  s = [word for word in s.split(' ') if(word not in commonWords)]\n",
    "  s = ' '.join(s)\n",
    "  return s"
   ]
  },
  {
   "cell_type": "code",
   "execution_count": null,
   "metadata": {
    "colab": {},
    "colab_type": "code",
    "collapsed": true,
    "id": "iA3eu5Dcul-a"
   },
   "outputs": [],
   "source": [
    "from nltk.tokenize import word_tokenize\n",
    "from nltk.stem.snowball import SnowballStemmer\n",
    "\n",
    "\n",
    "def tokenizeData(data):\n",
    "    return word_tokenize(data)\n",
    "\n",
    "\n",
    "def tokenize_and_stem_data(newData):\n",
    "  tokenized_data = []\n",
    "\n",
    "  for sentence in newData:\n",
    "    tokens = word_tokenize(sentence)\n",
    "    tokenized_data.append(tokens)\n",
    "\n",
    "  data = tokenized_data\n",
    "  stemmer = SnowballStemmer('english')\n",
    "  stemmedData = []\n",
    "  for sentence in data:\n",
    "    wordArray = []\n",
    "    for word in sentence:\n",
    "      # print(word)\n",
    "      word = stemmer.stem(word)\n",
    "      wordArray.append(word)\n",
    "    stemmedData.append(' '.join(wordArray))\n",
    "\n",
    "  return stemmedData"
   ]
  },
  {
   "cell_type": "code",
   "execution_count": null,
   "metadata": {
    "colab": {},
    "colab_type": "code",
    "collapsed": true,
    "id": "dWc-zWpMul-h"
   },
   "outputs": [],
   "source": [
    "def numberReplaceWithToken(listOfTokens):\n",
    "    tags = nltk.pos_tag(listOfTokens[:])\n",
    "    #print(tags)\n",
    "    for i in range(len(listOfTokens)):\n",
    "        if(tags[i][1]=='CD'):\n",
    "            listOfTokens[i] = \"covidCount\"\n",
    "    return listOfTokens"
   ]
  },
  {
   "cell_type": "code",
   "execution_count": null,
   "metadata": {
    "colab": {},
    "colab_type": "code",
    "collapsed": true,
    "id": "DqD9ryxUul-p"
   },
   "outputs": [],
   "source": [
    "tokenized_tweets = []\n",
    "for tweet in tweets:\n",
    "  cleanedSample =  cleanSentence(tweet)\n",
    "  cleanedSample = [cleanedSample]\n",
    "  # print(cleanedSample)\n",
    "  tokens = word_tokenize(cleanedSample[0])\n",
    "  tokenized_tweets.append(tokens)\n",
    "  #print(tokens)"
   ]
  },
  {
   "cell_type": "code",
   "execution_count": null,
   "metadata": {
    "colab": {},
    "colab_type": "code",
    "collapsed": true,
    "id": "ZxgKHWBzul-w"
   },
   "outputs": [],
   "source": [
    "numberReplacedTweets = []\n",
    "for tweet_tokens in tokenized_tweets:\n",
    "    number_replaced_tweet = numberReplaceWithToken(tweet_tokens[:])\n",
    "    numberReplacedTweets.append(number_replaced_tweet)\n",
    "\n"
   ]
  },
  {
   "cell_type": "code",
   "execution_count": null,
   "metadata": {
    "colab": {},
    "colab_type": "code",
    "collapsed": true,
    "id": "3G6e3c9tul-2"
   },
   "outputs": [],
   "source": [
    "token_dict = {}\n",
    "for tokenize_tweet in numberReplacedTweets:\n",
    "  for token in tokenize_tweet:\n",
    "    if(token not in token_dict.keys()):\n",
    "      token_dict[token] = 1\n",
    "    else:\n",
    "      token_dict[token] += 1"
   ]
  },
  {
   "cell_type": "code",
   "execution_count": null,
   "metadata": {
    "colab": {
     "base_uri": "https://localhost:8080/",
     "height": 1000
    },
    "colab_type": "code",
    "id": "lTRpHTp7ul-_",
    "outputId": "00c58d0d-f18a-4a63-a15c-6fceff260205"
   },
   "outputs": [],
   "source": [
    "token_list = token_dict.items()\n",
    "token_list = list(token_list)\n",
    "token_list"
   ]
  },
  {
   "cell_type": "code",
   "execution_count": null,
   "metadata": {
    "colab": {},
    "colab_type": "code",
    "collapsed": true,
    "id": "kqQEyoelul_D"
   },
   "outputs": [],
   "source": [
    "def createNGramCount(dataSetOfListOfTokens,n=3):\n",
    "    ngramDict={}\n",
    "    for listoftokens in dataSetOfListOfTokens:\n",
    "        for i in range(len(listoftokens)-n):\n",
    "            nGram = listoftokens[i:i+n]\n",
    "            nGram = \" \".join(nGram)\n",
    "            if(nGram not in ngramDict.keys()):\n",
    "                ngramDict[nGram] = 1\n",
    "            else:\n",
    "                ngramDict[nGram] += 1\n",
    "    return ngramDict"
   ]
  },
  {
   "cell_type": "code",
   "execution_count": null,
   "metadata": {
    "colab": {
     "base_uri": "https://localhost:8080/",
     "height": 54
    },
    "colab_type": "code",
    "id": "_B6PskjOul_H",
    "outputId": "b960d3dc-f350-4db7-f93a-984a90fb5a4e"
   },
   "outputs": [],
   "source": [
    "trigram = createNGramCount(numberReplacedTweets,3)\n",
    "trigram_list = trigram.items()\n",
    "trigram_list = list(trigram_list)\n",
    "trigram_list.sort(key=lambda x:x[1],reverse=True)\n",
    "trigram_list = trigram_list[:20]\n",
    "trigram_list = [x[0] for x in trigram_list]\n",
    "print(trigram_list)\n",
    "\n"
   ]
  },
  {
   "cell_type": "code",
   "execution_count": null,
   "metadata": {
    "colab": {
     "base_uri": "https://localhost:8080/",
     "height": 54
    },
    "colab_type": "code",
    "id": "wUk1z6u3ul_N",
    "outputId": "cc66f90c-8efb-4f02-994f-a383153f5b11"
   },
   "outputs": [],
   "source": [
    "bigram = createNGramCount(numberReplacedTweets,2)\n",
    "bigram_list = bigram.items()\n",
    "bigram_list = list(bigram_list)\n",
    "bigram_list.sort(key=lambda x:x[1],reverse=True)\n",
    "#print(bigram_list)\n",
    "bigram_list=bigram_list[:20]\n",
    "bigram_list = [x[0] for x in bigram_list]\n",
    "\n",
    "#bigram_list = [bigram_list[0][0],bigram_list[2][0],bigram_list[-3][0]]\n",
    "print(bigram_list)\n"
   ]
  },
  {
   "cell_type": "code",
   "execution_count": null,
   "metadata": {
    "colab": {
     "base_uri": "https://localhost:8080/",
     "height": 54
    },
    "colab_type": "code",
    "id": "vzgV7nzMul_R",
    "outputId": "ad5fc0b4-fb46-4a83-e00f-fc45d393e8a9"
   },
   "outputs": [],
   "source": [
    "quadragram = createNGramCount(numberReplacedTweets,4)\n",
    "quadragram_list = quadragram.items()\n",
    "quadragram_list = list(quadragram_list)\n",
    "quadragram_list.sort(key=lambda x:x[1],reverse=True)\n",
    "quadragram_list=quadragram_list[:20]\n",
    "quadragram_list=[x[0] for x in quadragram_list]\n",
    "print(quadragram_list)\n",
    "\n"
   ]
  },
  {
   "cell_type": "code",
   "execution_count": null,
   "metadata": {
    "colab": {
     "base_uri": "https://localhost:8080/",
     "height": 336
    },
    "colab_type": "code",
    "id": "Wp50pi-J449j",
    "outputId": "799ff6fa-17ce-419f-f663-67d8ad1266ed"
   },
   "outputs": [],
   "source": [
    "countPatterns = []\n",
    "for trigram in trigram_list:\n",
    "  if('covidCount' in trigram):\n",
    "    countPatterns.append(trigram)\n",
    "for quadragram in quadragram_list:\n",
    "  if('covidCount' in quadragram):\n",
    "    countPatterns.append(quadragram)\n",
    "countPatterns"
   ]
  },
  {
   "cell_type": "code",
   "execution_count": null,
   "metadata": {
    "colab": {
     "base_uri": "https://localhost:8080/",
     "height": 353
    },
    "colab_type": "code",
    "id": "U7Po_aui6Y8u",
    "outputId": "d4b6270c-5f12-4f2f-d625-a2137e854499"
   },
   "outputs": [],
   "source": [
    "joined = \" \".join(countPatterns)\n",
    "frequentWords = {}\n",
    "for word in joined.split(\" \"):\n",
    "  if(word in frequentWords):\n",
    "    frequentWords[word] +=1\n",
    "  else:\n",
    "    frequentWords[word] =1\n",
    "frequentWords"
   ]
  },
  {
   "cell_type": "code",
   "execution_count": null,
   "metadata": {
    "colab": {
     "base_uri": "https://localhost:8080/",
     "height": 134
    },
    "colab_type": "code",
    "id": "49hWNvZ66elC",
    "outputId": "2cec645c-6fa6-4db9-d762-042e94b67b2f"
   },
   "outputs": [],
   "source": [
    "requiredPatterns = []\n",
    "for gram in countPatterns:\n",
    "  if(\"new\" in gram):\n",
    "    requiredPatterns.append(gram)\n",
    "  if(\"more\" in gram):\n",
    "    requiredPatterns.append(gram)\n",
    "  if(\"positive\" in gram):\n",
    "    requiredPatterns.append(gram)\n",
    "requiredPatterns = list(set(requiredPatterns))\n",
    "requiredPatterns\n"
   ]
  },
  {
   "cell_type": "code",
   "execution_count": null,
   "metadata": {
    "colab": {
     "base_uri": "https://localhost:8080/",
     "height": 336
    },
    "colab_type": "code",
    "id": "XL5auTa08sLT",
    "outputId": "c6547880-5a8b-4ddb-8080-15e3a7437afc"
   },
   "outputs": [],
   "source": [
    "rulesList = []\n",
    "for sentence in requiredPatterns:\n",
    "  rule = []\n",
    "  for word in sentence.split(\" \"):\n",
    "    if(word == 'covidCount'):\n",
    "      rule.append({\"LIKE_NUM\":True})\n",
    "    else:\n",
    "      rule.append({\"LOWER\":word})\n",
    "  rulesList.append(rule)\n",
    "rulesList"
   ]
  },
  {
   "cell_type": "code",
   "execution_count": null,
   "metadata": {
    "colab": {},
    "colab_type": "code",
    "collapsed": true,
    "id": "pI9I3nIX4OiU"
   },
   "outputs": [],
   "source": [
    "import spacy\n",
    "nlp = spacy.load(\"en_core_web_sm\")\n",
    "from spacy.matcher import Matcher"
   ]
  },
  {
   "cell_type": "code",
   "execution_count": null,
   "metadata": {
    "colab": {
     "base_uri": "https://localhost:8080/",
     "height": 84
    },
    "colab_type": "code",
    "id": "RtpiyJmasX5l",
    "outputId": "12810f46-60ae-4e82-b25d-f4bf5e9940d1"
   },
   "outputs": [],
   "source": [
    "#tweet =\"No new deaths, 425 new COVID19 positive cases reported in the last 24 hours. The total number of positive cases in Himachal pradesh is now 8895 (including 5254 active cases and 3518 recovered/discharged/migrated): Delhi Health Department\"\n",
    "#tweet = \"3 persons tested #COVID19 positive in Kamrup Metro. One person is from Sarusajai Quarantine camp, 1 indoor patient of GMCH, & one has migrated to West Bengal. Total positive cases stand at 89: Assam Minister Himanta Biswa Sarma (15.5)\"\n",
    "#tweet = \"40 new #COVID19 positive cases have been reported in Telangana today; taking the total number of positive cases to 1454. Total active cases stand at 461: Telangana Health Department\"\n",
    "tweet = \"141 new #COVID19 positive cases and 5 deaths have been reported in Pune district today. Total positive cases stand at 3567 in the district and death toll is at 186: Dr Bhagawan Pawar, District Health Officer (DHO) #Maharashtra\"\n",
    "tweet = cleanSentence(tweet)\n",
    "tweet = tweet.lower()\n",
    "placeMatcherPattern = [{\"TEXT\":{\"IN\": placenames}}]\n",
    "pattern = [{\"LIKE_NUM\": True},{\"LOWER\":\"new\"},{\"LOWER\":\"covid19\"},{\"LOWER\":\"positive\"}]\n",
    "matcher = Matcher(nlp.vocab)\n",
    "matcher.add('PLACE', None, placeMatcherPattern)\n",
    "matcher.add('COUNT',None,[{'LIKE_NUM': True}, {'LOWER': 'more'}, {'LOWER': 'covid19'}],\n",
    " [{'LIKE_NUM': True},\n",
    "  {'LOWER': 'more'},\n",
    "  {'LOWER': 'people'},\n",
    "  {'LOWER': 'test'}],\n",
    " [{'LIKE_NUM': True}, {'LOWER': 'more'}, {'LOWER': 'people'}],\n",
    " [{'LIKE_NUM': True},\n",
    "  {'LOWER': 'new'},\n",
    "  {'LOWER': 'covid19'},\n",
    "  {'LOWER': 'positive'}],\n",
    " [{'LOWER': 'number'},\n",
    "  {'LOWER': 'positive'},\n",
    "  {'LOWER': 'cases'},\n",
    "  {'LIKE_NUM': True}],\n",
    " [{'LIKE_NUM': True}, {'LOWER': 'new'}, {'LOWER': 'covid19'}],\n",
    " [{'LIKE_NUM': True},\n",
    "  {'LOWER': 'new'},\n",
    "  {'LOWER': 'covid19'},\n",
    "  {'LOWER': 'cases'}])\n",
    "\n"
   ]
  },
  {
   "cell_type": "code",
   "execution_count": null,
   "metadata": {
    "colab": {
     "base_uri": "https://localhost:8080/",
     "height": 84
    },
    "colab_type": "code",
    "id": "RSsjpIV9FvBo",
    "outputId": "326ed083-5bf8-4363-bfd7-23c74d511a1e"
   },
   "outputs": [],
   "source": [
    "doc = nlp(tweet)\n",
    "matches = matcher(doc)\n",
    "for match_id, start, end in matches:\n",
    "    rule_id = nlp.vocab.strings[match_id]  # get the unicode ID, i.e. 'COLOR'\n",
    "    span = doc[start : end]  # get the matched slice of the doc\n",
    "    print(rule_id, span.text)\n",
    "    "
   ]
  },
  {
   "cell_type": "code",
   "execution_count": null,
   "metadata": {
    "colab": {},
    "colab_type": "code",
    "collapsed": true,
    "id": "pg9JSRg9CL5R"
   },
   "outputs": [],
   "source": [
    "from joblib import dump\n",
    "dump(placenames,'placenames.pkl')\n",
    "files.download('placenames.pkl')"
   ]
  },
  {
   "cell_type": "code",
   "execution_count": null,
   "metadata": {
    "colab": {},
    "colab_type": "code",
    "collapsed": true,
    "id": "lgeySYM_o8jd"
   },
   "outputs": [],
   "source": [
    "from joblib import dump\n",
    "dump(placenames,'placenames.pkl')\n",
    "files.download('placenames.pkl')\n",
    "\n"
   ]
  },
  {
   "cell_type": "code",
   "execution_count": null,
   "metadata": {
    "colab": {
     "base_uri": "https://localhost:8080/",
     "height": 34
    },
    "colab_type": "code",
    "collapsed": true,
    "id": "j2OX_8yDqhBx",
    "outputId": "2420606f-241c-4146-fc6d-574c16d0951f"
   },
   "outputs": [],
   "source": []
  },
  {
   "cell_type": "code",
   "execution_count": null,
   "metadata": {
    "colab": {},
    "colab_type": "code",
    "collapsed": true,
    "id": "6XxCOzD5ul_U"
   },
   "outputs": [],
   "source": [
    "def createNGram(sentence,n=3):\n",
    "    trigramsinTweet = [' '.join(sentence[i:i + n]) for i in range(0, len(sentence)-n)]\n",
    "    return trigramsinTweet"
   ]
  },
  {
   "cell_type": "code",
   "execution_count": null,
   "metadata": {
    "colab": {},
    "colab_type": "code",
    "collapsed": true,
    "id": "R1p6TDLcul_Z"
   },
   "outputs": [],
   "source": [
    "i=0\n",
    "for (index,tweet) in enumerate(numberReplacedTweets):\n",
    "    trigramsinTweet = createNGram(tweet,3)\n",
    "    bigramsinTweet = createNGram(tweet,2)\n",
    "    quadgramsinTweet = createNGram(tweet,4)\n",
    "    nGrams = bigramsinTweet+trigramsinTweet+quadgramsinTweet\n",
    "    setofGrams =  set(nGrams)\n",
    "    matchedGrams = list(setToCheck.intersection(setofGrams))\n",
    "    if(len(matchedGrams) > 0):\n",
    "        print(matchedGrams)\n",
    "        bigramsinTokenizedTweets = createNGram(tokenized_tweets[index],2)\n",
    "        trigramsinTokenizedTweets = createNGram(tokenized_tweets[index],3)\n",
    "        quadgramsinTokenizedTweets = createNGram(tokenized_tweets[index],4)\n",
    "        for gram in matchedGrams:\n",
    "            if(len(gram.split(\" \")) ==2):\n",
    "                indexOfbigrams = bigramsinTweet.index(gram)\n",
    "                count = bigramsinTokenizedTweets[indexOfbigrams]\n",
    "                print(count)\n",
    "            if(len(gram.split(\" \")) ==3):\n",
    "                indexOftrigrams = trigramsinTweet.index(gram)\n",
    "                count = trigramsinTokenizedTweets[indexOftrigrams]\n",
    "                print(count)\n",
    "            if(len(gram.split(\" \")) ==4):\n",
    "                indexofQuadgrams = quadgramsinTweet.index(gram)\n",
    "                count = quadgramsinTokenizedTweets[indexofQuadgrams]\n",
    "                print(count)\n",
    "                \n",
    "        print(trigramsinTweet)       \n",
    "        print(tweets[index])\n",
    "        i+=1\n",
    "print(i)"
   ]
  },
  {
   "cell_type": "code",
   "execution_count": null,
   "metadata": {
    "colab": {},
    "colab_type": "code",
    "collapsed": true,
    "id": "aEhiLJC4wp-f"
   },
   "outputs": [],
   "source": [
    "graphNodes = list(createNGramCount(numberReplacedTweets).keys())\n",
    "\n",
    "graph = {}\n",
    "for node in graphNodes:\n",
    "  graph[node] = []"
   ]
  },
  {
   "cell_type": "code",
   "execution_count": null,
   "metadata": {
    "colab": {},
    "colab_type": "code",
    "collapsed": true,
    "id": "TCtBFCjfyu0k"
   },
   "outputs": [],
   "source": [
    "for tweet in numberReplacedTweets:\n",
    "  trigrams = createNGram(tweet)\n",
    "  for (index,trigram) in enumerate(trigrams[:-1]):\n",
    "    fromnode = trigram\n",
    "    #print(fromnode)\n",
    "    tonode = trigrams[index+1]\n",
    "    graph[fromnode].append(tonode)\n",
    "    "
   ]
  },
  {
   "cell_type": "code",
   "execution_count": null,
   "metadata": {
    "colab": {
     "base_uri": "https://localhost:8080/",
     "height": 437
    },
    "colab_type": "code",
    "id": "twbGfnVr0Jei",
    "outputId": "d35b1500-e462-4380-fda8-ec2d7dc76347"
   },
   "outputs": [],
   "source": [
    "checkTweet = \"No new deaths, 425 new COVID19 positive cases reported in the last 24 hours. The total number of positive cases in Delhi is now 8895 (including 5254 active cases and 3518 recovered/discharged/migrated): Delhi Health Department\"\n",
    "cleanedSample =  cleanSentence(checkTweet)\n",
    "cleanedSample = [cleanedSample]\n",
    "tokenize_and_stem_sample = tokenize_and_stem_data(cleanedSample)\n",
    "tokens = word_tokenize(tokenize_and_stem_sample[0])\n",
    "numbertokens = numberReplaceWithToken(tokens)\n",
    "checkTrigrams = createNGram(numbertokens)\n",
    "\n",
    "for (index,trigram) in enumerate(checkTrigrams[:-1]):\n",
    "    fromnode = trigram\n",
    "    tonode = checkTrigrams[index+1]\n",
    "    try:\n",
    "      connectedFromNodes = graph[fromnode]\n",
    "      print(fromnode)\n",
    "      if(not(tonode in connectedFromNodes)):\n",
    "        print(\"No sequence\")\n",
    "    except:\n",
    "      print(\"Exception\")"
   ]
  },
  {
   "cell_type": "code",
   "execution_count": null,
   "metadata": {
    "colab": {
     "base_uri": "https://localhost:8080/",
     "height": 34
    },
    "colab_type": "code",
    "id": "tb9rzmyVul_d",
    "outputId": "73724e35-c306-4e6c-ba9e-e0d11b29ebf8"
   },
   "outputs": [],
   "source": []
  },
  {
   "cell_type": "code",
   "execution_count": null,
   "metadata": {
    "colab": {},
    "colab_type": "code",
    "collapsed": true,
    "id": "bEkkfbJ4ul_h"
   },
   "outputs": [],
   "source": [
    "import numpy as np\n",
    "\n",
    "def tweetToPOS(tweet):\n",
    "    print(tweet)\n",
    "    try:\n",
    "        cleanedSample =  cleanSentence(tweet)\n",
    "        cleanedSample = [cleanedSample]\n",
    "        tokenize_and_stem_sample = tokenize_and_stem_data(cleanedSample)\n",
    "        print(tokenize_and_stem_sample)\n",
    "        tagged = nltk.pos_tag(tokenize_and_stem_sample[0]) \n",
    "        taggedtoPos = list(map(list, tagged))\n",
    "        taggedtoPos = np.array(taggedtoPos)\n",
    "        listOfPosWrods = taggedtoPos[:,1].tolist()\n",
    "        print(listOfPosWrods)\n",
    "        POSWords = ' '.join(listOfPosWrods)\n",
    "        return POSWords\n",
    "    except:\n",
    "            print(tweet)\n",
    "            return None\n",
    "    \n",
    "POSWordsArray=[]\n",
    "for tweet in tweets:\n",
    "    poswords = tweetToPOS(tweet)\n",
    "    if(poswords != None):\n",
    "        POSWordsArray.append(poswords)\n"
   ]
  },
  {
   "cell_type": "code",
   "execution_count": null,
   "metadata": {
    "colab": {},
    "colab_type": "code",
    "collapsed": true,
    "id": "J2lMQXbXul_q"
   },
   "outputs": [],
   "source": [
    "def countExtractor(tweet):\n",
    "    tags = nltk.pos_tag(tokenizeData(tweet))\n",
    "    for tag in enumerate(tags):\n",
    "        pos = tag[0]\n",
    "        word,pos = tag[1]\n",
    "        if pos == 'CD':\n",
    "            "
   ]
  },
  {
   "cell_type": "code",
   "execution_count": null,
   "metadata": {
    "colab": {},
    "colab_type": "code",
    "collapsed": true,
    "id": "NCWkhXZlul_x"
   },
   "outputs": [],
   "source": [
    "POSWordsArray = list(map(lambda x: x.split(\" \")))"
   ]
  },
  {
   "cell_type": "code",
   "execution_count": null,
   "metadata": {
    "colab": {},
    "colab_type": "code",
    "collapsed": true,
    "id": "0_wg1H-8ul_3"
   },
   "outputs": [],
   "source": [
    "createNGram(POSWordsArray)"
   ]
  },
  {
   "cell_type": "code",
   "execution_count": null,
   "metadata": {
    "colab": {},
    "colab_type": "code",
    "id": "KAESk8iZul_6",
    "outputId": "f26f1278-2c37-46d9-fe23-917c9972267b"
   },
   "outputs": [],
   "source": [
    "len(tweets)"
   ]
  },
  {
   "cell_type": "code",
   "execution_count": null,
   "metadata": {
    "colab": {},
    "colab_type": "code",
    "collapsed": true,
    "id": "1pi7SCH8ul_9"
   },
   "outputs": [],
   "source": []
  }
 ],
 "metadata": {
  "colab": {
   "name": "tweet-context-extraction.ipynb",
   "provenance": []
  },
  "kernelspec": {
   "display_name": "Python 3",
   "language": "python",
   "name": "python3"
  },
  "language_info": {
   "codemirror_mode": {
    "name": "ipython",
    "version": 3
   },
   "file_extension": ".py",
   "mimetype": "text/x-python",
   "name": "python",
   "nbconvert_exporter": "python",
   "pygments_lexer": "ipython3",
   "version": "3.6.1"
  }
 },
 "nbformat": 4,
 "nbformat_minor": 1
}
